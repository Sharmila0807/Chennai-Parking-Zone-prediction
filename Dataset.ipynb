{
  "nbformat": 4,
  "nbformat_minor": 0,
  "metadata": {
    "colab": {
      "provenance": []
    },
    "kernelspec": {
      "name": "python3",
      "display_name": "Python 3"
    },
    "language_info": {
      "name": "python"
    }
  },
  "cells": [
    {
      "cell_type": "code",
      "source": [
        "import pandas as pd\n",
        "import numpy as np\n",
        "\n",
        "# Chennai bounding box\n",
        "min_lat, max_lat = 12.8, 13.2\n",
        "min_lon, max_lon = 80.0, 80.3\n",
        "step_deg = 0.003  # ~333 meters → more points\n",
        "\n",
        "# Generate coordinate grid\n",
        "lat_points = np.arange(min_lat, max_lat, step_deg)\n",
        "lon_points = np.arange(min_lon, max_lon, step_deg)\n",
        "coordinates = [(lat, lon) for lat in lat_points for lon in lon_points]\n",
        "np.random.shuffle(coordinates)\n",
        "\n",
        "# Generate dataset\n",
        "def generate_row(coord):\n",
        "    lat, lon = coord\n",
        "    # Feature assignment based on randomness\n",
        "    if np.random.rand() < 0.5:\n",
        "        crime_rate = np.random.randint(16, 26)\n",
        "        security = 0\n",
        "        lighting = np.random.choice([1, 1, 2])\n",
        "    else:\n",
        "        crime_rate = np.random.randint(1, 16)\n",
        "        security = 1\n",
        "        lighting = np.random.choice([2, 3])\n",
        "    traffic = np.random.randint(1, 4)\n",
        "\n",
        "    # Zone assignment logic\n",
        "    if crime_rate > 15 and security == 0 and lighting < 2:\n",
        "        zone_type = \"Danger Zone\"\n",
        "    else:\n",
        "        zone_type = \"Safe Zone\"\n",
        "\n",
        "    return {\n",
        "        \"Latitude\": lat,\n",
        "        \"Longitude\": lon,\n",
        "        \"Crime Rate\": crime_rate,\n",
        "        \"Security Presence\": security,\n",
        "        \"Traffic Density\": traffic,\n",
        "        \"Lighting Quality\": lighting,\n",
        "        \"Zone Type\": zone_type\n",
        "    }\n",
        "\n",
        "# Generate rows until we have enough of both zone types\n",
        "dataset = []\n",
        "used_coords = set()\n",
        "safe_count = 0\n",
        "danger_count = 0\n",
        "target_per_class = 600  # we want at least 1200 rows total\n",
        "\n",
        "for coord in coordinates:\n",
        "    if coord in used_coords:\n",
        "        continue\n",
        "    row = generate_row(coord)\n",
        "    if row[\"Zone Type\"] == \"Safe Zone\" and safe_count < target_per_class:\n",
        "        dataset.append(row)\n",
        "        used_coords.add(coord)\n",
        "        safe_count += 1\n",
        "    elif row[\"Zone Type\"] == \"Danger Zone\" and danger_count < target_per_class:\n",
        "        dataset.append(row)\n",
        "        used_coords.add(coord)\n",
        "        danger_count += 1\n",
        "    if safe_count >= target_per_class and danger_count >= target_per_class:\n",
        "        break\n",
        "\n",
        "# Create DataFrame\n",
        "df = pd.DataFrame(dataset)\n",
        "df = df.sample(frac=1, random_state=42).reset_index(drop=True)\n",
        "\n",
        "# Save or display\n",
        "df.to_csv(\"chennai_parking.csv\", index=False)\n",
        "print(\"Final Dataset Shape:\", df.shape)\n",
        "print(df[\"Zone Type\"].value_counts())\n",
        "print(df.head())\n"
      ],
      "metadata": {
        "colab": {
          "base_uri": "https://localhost:8080/"
        },
        "id": "hfpb0GLRu_vH",
        "outputId": "ec72a9da-8521-4b9c-805a-395e0d816e1d"
      },
      "execution_count": 5,
      "outputs": [
        {
          "output_type": "stream",
          "name": "stdout",
          "text": [
            "Final Dataset Shape: (1200, 7)\n",
            "Zone Type\n",
            "Danger Zone    600\n",
            "Safe Zone      600\n",
            "Name: count, dtype: int64\n",
            "   Latitude  Longitude  Crime Rate  Security Presence  Traffic Density  \\\n",
            "0    12.998     80.141          24                  0                1   \n",
            "1    12.908     80.171          25                  0                1   \n",
            "2    12.989     80.213          16                  0                1   \n",
            "3    13.016     80.267           6                  1                1   \n",
            "4    12.824     80.156          25                  0                1   \n",
            "\n",
            "   Lighting Quality    Zone Type  \n",
            "0                 1  Danger Zone  \n",
            "1                 1  Danger Zone  \n",
            "2                 1  Danger Zone  \n",
            "3                 3    Safe Zone  \n",
            "4                 2    Safe Zone  \n"
          ]
        }
      ]
    }
  ]
}