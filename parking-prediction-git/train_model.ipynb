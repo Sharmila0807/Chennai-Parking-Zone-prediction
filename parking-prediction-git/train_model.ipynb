{
 "cells": [
  {
   "cell_type": "code",
   "execution_count": 2,
   "metadata": {},
   "outputs": [],
   "source": [
    "import pandas as pd\n",
    "from sklearn.ensemble import RandomForestClassifier\n",
    "from sklearn.model_selection import train_test_split, GridSearchCV\n",
    "from sklearn.metrics import accuracy_score, classification_report\n",
    "from imblearn.over_sampling import SMOTE\n",
    "import joblib\n",
    "\n",
    "\n",
    "\n",
    "\n",
    "\n",
    "\n"
   ]
  },
  {
   "cell_type": "code",
   "execution_count": 3,
   "metadata": {},
   "outputs": [
    {
     "name": "stdout",
     "output_type": "stream",
     "text": [
      "Class Distribution Before SMOTE:\n",
      "Zone Type\n",
      "Danger Zone    859\n",
      "Safe Zone      141\n",
      "Name: count, dtype: int64\n",
      "\n",
      "Class Distribution After SMOTE:\n",
      "Zone Type\n",
      "Danger Zone    689\n",
      "Safe Zone      689\n",
      "Name: count, dtype: int64\n"
     ]
    }
   ],
   "source": [
    "# Load dataset\n",
    "data = pd.read_csv('parking_zones.csv')\n",
    "\n",
    "# Separate features and target variable\n",
    "X = data.drop('Zone Type', axis=1)\n",
    "y = data['Zone Type']\n",
    "\n",
    "\n",
    "# Check class distribution before SMOTE\n",
    "class_distribution_before = y.value_counts()\n",
    "print(\"Class Distribution Before SMOTE:\")\n",
    "print(class_distribution_before)\n",
    "\n",
    "# Split data into training and test sets\n",
    "X_train, X_test, y_train, y_test = train_test_split(X, y, test_size=0.2, random_state=42)\n",
    "\n",
    "# Apply SMOTE to oversample the minority class (Safe Zone)\n",
    "smote = SMOTE(random_state=42)\n",
    "X_train_resampled, y_train_resampled = smote.fit_resample(X_train, y_train)\n",
    "\n",
    "# Check class distribution after SMOTE\n",
    "class_distribution_after = pd.Series(y_train_resampled).value_counts()\n",
    "print(\"\\nClass Distribution After SMOTE:\")\n",
    "print(class_distribution_after)\n"
   ]
  },
  {
   "cell_type": "code",
   "execution_count": 4,
   "metadata": {},
   "outputs": [
    {
     "name": "stdout",
     "output_type": "stream",
     "text": [
      "Fitting 5 folds for each of 108 candidates, totalling 540 fits\n",
      "Model Accuracy: 0.98\n",
      "              precision    recall  f1-score   support\n",
      "\n",
      " Danger Zone       0.98      1.00      0.99       170\n",
      "   Safe Zone       1.00      0.90      0.95        30\n",
      "\n",
      "    accuracy                           0.98       200\n",
      "   macro avg       0.99      0.95      0.97       200\n",
      "weighted avg       0.99      0.98      0.98       200\n",
      "\n",
      "Model saved as 'parking_zone_model.pkl'\n"
     ]
    }
   ],
   "source": [
    "# Initialize RandomForestClassifier\n",
    "rf_clf = RandomForestClassifier(random_state=42)\n",
    "\n",
    "# Perform grid search for hyperparameter tuning\n",
    "param_grid = {\n",
    "    'n_estimators': [50, 100, 200],\n",
    "    'max_depth': [None, 10, 20, 30],\n",
    "    'min_samples_split': [2, 5, 10],\n",
    "    'min_samples_leaf': [1, 2, 4]\n",
    "}\n",
    "\n",
    "grid_search = GridSearchCV(estimator=rf_clf, param_grid=param_grid, cv=5, scoring='accuracy', verbose=1)\n",
    "grid_search.fit(X_train_resampled, y_train_resampled)\n",
    "\n",
    "# Get the best model from grid search\n",
    "best_rf_clf = grid_search.best_estimator_\n",
    "\n",
    "# Predict on test data\n",
    "y_pred = best_rf_clf.predict(X_test)\n",
    "\n",
    "# Evaluate the model\n",
    "accuracy = accuracy_score(y_test, y_pred)\n",
    "print(f\"Model Accuracy: {accuracy:.2f}\")\n",
    "print(classification_report(y_test, y_pred))\n",
    "\n",
    "# Save the model\n",
    "joblib.dump(best_rf_clf, 'parking_zone_model.pkl')\n",
    "print(\"Model saved as 'parking_zone_model.pkl'\")"
   ]
  }
 ],
 "metadata": {
  "kernelspec": {
   "display_name": "Python 3",
   "language": "python",
   "name": "python3"
  },
  "language_info": {
   "codemirror_mode": {
    "name": "ipython",
    "version": 3
   },
   "file_extension": ".py",
   "mimetype": "text/x-python",
   "name": "python",
   "nbconvert_exporter": "python",
   "pygments_lexer": "ipython3",
   "version": "3.12.0"
  }
 },
 "nbformat": 4,
 "nbformat_minor": 2
}
